{
 "cells": [
  {
   "cell_type": "code",
   "execution_count": 8,
   "id": "0ee8b516-9517-43a5-a168-ec44657ae801",
   "metadata": {},
   "outputs": [],
   "source": [
    "import tensorflow\n",
    "from tensorflow import keras\n",
    "from keras.layers import Dense, Conv2D, Flatten, AveragePooling2D\n",
    "from keras import Sequential\n"
   ]
  },
  {
   "cell_type": "code",
   "execution_count": 12,
   "id": "30bc3f9a-50aa-4902-955c-2b8c2f78ba58",
   "metadata": {},
   "outputs": [
    {
     "ename": "TypeError",
     "evalue": "Conv2D.__init__() missing 1 required positional argument: 'kernel_size'",
     "output_type": "error",
     "traceback": [
      "\u001b[1;31m---------------------------------------------------------------------------\u001b[0m",
      "\u001b[1;31mTypeError\u001b[0m                                 Traceback (most recent call last)",
      "Cell \u001b[1;32mIn[12], line 3\u001b[0m\n\u001b[0;32m      1\u001b[0m \u001b[38;5;66;03m#LENET ARCHITECTURE \u001b[39;00m\n\u001b[0;32m      2\u001b[0m model \u001b[38;5;241m=\u001b[39m Sequential()\n\u001b[1;32m----> 3\u001b[0m model\u001b[38;5;241m.\u001b[39madd(Conv2D(\u001b[38;5;241m6\u001b[39m, kernal_size \u001b[38;5;241m=\u001b[39m (\u001b[38;5;241m5\u001b[39m,\u001b[38;5;241m5\u001b[39m), padding \u001b[38;5;241m=\u001b[39m \u001b[38;5;124m'\u001b[39m\u001b[38;5;124mvalid\u001b[39m\u001b[38;5;124m'\u001b[39m, activation \u001b[38;5;241m=\u001b[39m \u001b[38;5;124m'\u001b[39m\u001b[38;5;124mtanh\u001b[39m\u001b[38;5;124m'\u001b[39m, input_shape\u001b[38;5;241m=\u001b[39m(\u001b[38;5;241m32\u001b[39m,\u001b[38;5;241m32\u001b[39m,\u001b[38;5;241m1\u001b[39m)))\n\u001b[0;32m      4\u001b[0m model\u001b[38;5;241m.\u001b[39madd(AveragePooling2D(pool_size \u001b[38;5;241m=\u001b[39m (\u001b[38;5;241m2\u001b[39m, \u001b[38;5;241m2\u001b[39m), strides \u001b[38;5;241m=\u001b[39m \u001b[38;5;241m2\u001b[39m, padding\u001b[38;5;241m=\u001b[39m \u001b[38;5;124m'\u001b[39m\u001b[38;5;124mvalid\u001b[39m\u001b[38;5;124m'\u001b[39m))\n\u001b[0;32m      5\u001b[0m model\u001b[38;5;241m.\u001b[39madd(Conv2D(\u001b[38;5;241m16\u001b[39m, kernal_size \u001b[38;5;241m=\u001b[39m (\u001b[38;5;241m5\u001b[39m,\u001b[38;5;241m5\u001b[39m), padding \u001b[38;5;241m=\u001b[39m \u001b[38;5;124m'\u001b[39m\u001b[38;5;124mvalid\u001b[39m\u001b[38;5;124m'\u001b[39m, activation \u001b[38;5;241m=\u001b[39m \u001b[38;5;124m'\u001b[39m\u001b[38;5;124mtanh\u001b[39m\u001b[38;5;124m'\u001b[39m))\n",
      "\u001b[1;31mTypeError\u001b[0m: Conv2D.__init__() missing 1 required positional argument: 'kernel_size'"
     ]
    }
   ],
   "source": [
    "#LENET ARCHITECTURE \n",
    "model = Sequential()\n",
    "model.add(Conv2D(6, kernal_size = (5,5), padding = 'valid', activation = 'tanh', input_shape=(32,32,1)))\n",
    "model.add(AveragePooling2D(pool_size = (2, 2), strides = 2, padding= 'valid'))\n",
    "model.add(Conv2D(16, kernal_size = (5,5), padding = 'valid', activation = 'tanh'))\n",
    "model.add(AveragePooling2D(pool_size = (2, 2), strides = 2, padding= 'valid'))\n",
    "model.add(Flatten())\n",
    "\n",
    "model.add(Dense(120, activation = 'tanh'))\n",
    "model.add(Denses(84, activation = 'tanh'))\n",
    "model.add(Denses(10, activation = 'softmax'))\n",
    "\n"
   ]
  },
  {
   "cell_type": "code",
   "execution_count": null,
   "id": "334f8b82-1ace-401c-802b-d0209e46f1c7",
   "metadata": {},
   "outputs": [],
   "source": []
  }
 ],
 "metadata": {
  "kernelspec": {
   "display_name": "Python 3 (ipykernel)",
   "language": "python",
   "name": "python3"
  },
  "language_info": {
   "codemirror_mode": {
    "name": "ipython",
    "version": 3
   },
   "file_extension": ".py",
   "mimetype": "text/x-python",
   "name": "python",
   "nbconvert_exporter": "python",
   "pygments_lexer": "ipython3",
   "version": "3.12.4"
  }
 },
 "nbformat": 4,
 "nbformat_minor": 5
}
